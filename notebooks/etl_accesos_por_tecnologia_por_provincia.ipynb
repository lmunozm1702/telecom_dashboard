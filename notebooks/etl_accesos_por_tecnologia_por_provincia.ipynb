{
 "cells": [
  {
   "cell_type": "markdown",
   "metadata": {},
   "source": [
    "## Load libraries"
   ]
  },
  {
   "cell_type": "code",
   "execution_count": 18,
   "metadata": {},
   "outputs": [],
   "source": [
    "import pandas as pd\n",
    "import numpy as np\n",
    "import matplotlib\n",
    "import matplotlib.pyplot as plt\n",
    "import seaborn as sns\n",
    "import os\n",
    "import sys\n",
    "sys.path.append(\"../libs\")\n",
    "sys.path.append(\"../\")\n",
    "from definitions import ROOT_DIR\n",
    "import utils as utils\n",
    "\n",
    "# Set pandas options\n",
    "# Not use scientific notation and use two decimal places and use comma as thousand separator\n",
    "pd.options.display.float_format = '{:,.2f}'.format\n"
   ]
  },
  {
   "cell_type": "markdown",
   "metadata": {},
   "source": [
    "# ETL"
   ]
  },
  {
   "cell_type": "markdown",
   "metadata": {},
   "source": [
    "## 1. Load dataset"
   ]
  },
  {
   "cell_type": "code",
   "execution_count": 19,
   "metadata": {},
   "outputs": [
    {
     "data": {
      "text/html": [
       "<style type=\"text/css\">\n",
       "</style>\n",
       "<table id=\"T_c619d\">\n",
       "  <thead>\n",
       "    <tr>\n",
       "      <th class=\"blank level0\" >&nbsp;</th>\n",
       "      <th id=\"T_c619d_level0_col0\" class=\"col_heading level0 col0\" >Año</th>\n",
       "      <th id=\"T_c619d_level0_col1\" class=\"col_heading level0 col1\" >Trimestre</th>\n",
       "      <th id=\"T_c619d_level0_col2\" class=\"col_heading level0 col2\" >Provincia</th>\n",
       "      <th id=\"T_c619d_level0_col3\" class=\"col_heading level0 col3\" >ADSL</th>\n",
       "      <th id=\"T_c619d_level0_col4\" class=\"col_heading level0 col4\" >Cablemodem</th>\n",
       "      <th id=\"T_c619d_level0_col5\" class=\"col_heading level0 col5\" >Fibra óptica</th>\n",
       "      <th id=\"T_c619d_level0_col6\" class=\"col_heading level0 col6\" >Wireless</th>\n",
       "      <th id=\"T_c619d_level0_col7\" class=\"col_heading level0 col7\" >Otros</th>\n",
       "      <th id=\"T_c619d_level0_col8\" class=\"col_heading level0 col8\" >Total</th>\n",
       "    </tr>\n",
       "  </thead>\n",
       "  <tbody>\n",
       "    <tr>\n",
       "      <th id=\"T_c619d_level0_row0\" class=\"row_heading level0 row0\" >0</th>\n",
       "      <td id=\"T_c619d_row0_col0\" class=\"data row0 col0\" >2,024</td>\n",
       "      <td id=\"T_c619d_row0_col1\" class=\"data row0 col1\" >2</td>\n",
       "      <td id=\"T_c619d_row0_col2\" class=\"data row0 col2\" >Buenos Aires</td>\n",
       "      <td id=\"T_c619d_row0_col3\" class=\"data row0 col3\" >214,055.000000</td>\n",
       "      <td id=\"T_c619d_row0_col4\" class=\"data row0 col4\" >2,722,466.000000</td>\n",
       "      <td id=\"T_c619d_row0_col5\" class=\"data row0 col5\" >1,849,476.000000</td>\n",
       "      <td id=\"T_c619d_row0_col6\" class=\"data row0 col6\" >138,638.000000</td>\n",
       "      <td id=\"T_c619d_row0_col7\" class=\"data row0 col7\" >64,745.000000</td>\n",
       "      <td id=\"T_c619d_row0_col8\" class=\"data row0 col8\" >4,989,380.000000</td>\n",
       "    </tr>\n",
       "    <tr>\n",
       "      <th id=\"T_c619d_level0_row1\" class=\"row_heading level0 row1\" >1</th>\n",
       "      <td id=\"T_c619d_row1_col0\" class=\"data row1 col0\" >2,024</td>\n",
       "      <td id=\"T_c619d_row1_col1\" class=\"data row1 col1\" >2</td>\n",
       "      <td id=\"T_c619d_row1_col2\" class=\"data row1 col2\" >Capital Federal</td>\n",
       "      <td id=\"T_c619d_row1_col3\" class=\"data row1 col3\" >54,102.000000</td>\n",
       "      <td id=\"T_c619d_row1_col4\" class=\"data row1 col4\" >1,144,781.000000</td>\n",
       "      <td id=\"T_c619d_row1_col5\" class=\"data row1 col5\" >230,402.000000</td>\n",
       "      <td id=\"T_c619d_row1_col6\" class=\"data row1 col6\" >4,493.000000</td>\n",
       "      <td id=\"T_c619d_row1_col7\" class=\"data row1 col7\" >29,821.000000</td>\n",
       "      <td id=\"T_c619d_row1_col8\" class=\"data row1 col8\" >1,463,599.000000</td>\n",
       "    </tr>\n",
       "    <tr>\n",
       "      <th id=\"T_c619d_level0_row2\" class=\"row_heading level0 row2\" >2</th>\n",
       "      <td id=\"T_c619d_row2_col0\" class=\"data row2 col0\" >2,024</td>\n",
       "      <td id=\"T_c619d_row2_col1\" class=\"data row2 col1\" >2</td>\n",
       "      <td id=\"T_c619d_row2_col2\" class=\"data row2 col2\" >Catamarca</td>\n",
       "      <td id=\"T_c619d_row2_col3\" class=\"data row2 col3\" >4,951.000000</td>\n",
       "      <td id=\"T_c619d_row2_col4\" class=\"data row2 col4\" >10,303.000000</td>\n",
       "      <td id=\"T_c619d_row2_col5\" class=\"data row2 col5\" >58,355.000000</td>\n",
       "      <td id=\"T_c619d_row2_col6\" class=\"data row2 col6\" >1,384.000000</td>\n",
       "      <td id=\"T_c619d_row2_col7\" class=\"data row2 col7\" >81.000000</td>\n",
       "      <td id=\"T_c619d_row2_col8\" class=\"data row2 col8\" >75,074.000000</td>\n",
       "    </tr>\n",
       "    <tr>\n",
       "      <th id=\"T_c619d_level0_row3\" class=\"row_heading level0 row3\" >3</th>\n",
       "      <td id=\"T_c619d_row3_col0\" class=\"data row3 col0\" >2,024</td>\n",
       "      <td id=\"T_c619d_row3_col1\" class=\"data row3 col1\" >2</td>\n",
       "      <td id=\"T_c619d_row3_col2\" class=\"data row3 col2\" >Chaco</td>\n",
       "      <td id=\"T_c619d_row3_col3\" class=\"data row3 col3\" >9,448.000000</td>\n",
       "      <td id=\"T_c619d_row3_col4\" class=\"data row3 col4\" >57,935.000000</td>\n",
       "      <td id=\"T_c619d_row3_col5\" class=\"data row3 col5\" >68,944.000000</td>\n",
       "      <td id=\"T_c619d_row3_col6\" class=\"data row3 col6\" >8,407.000000</td>\n",
       "      <td id=\"T_c619d_row3_col7\" class=\"data row3 col7\" >2,358.000000</td>\n",
       "      <td id=\"T_c619d_row3_col8\" class=\"data row3 col8\" >147,092.000000</td>\n",
       "    </tr>\n",
       "    <tr>\n",
       "      <th id=\"T_c619d_level0_row4\" class=\"row_heading level0 row4\" >4</th>\n",
       "      <td id=\"T_c619d_row4_col0\" class=\"data row4 col0\" >2,024</td>\n",
       "      <td id=\"T_c619d_row4_col1\" class=\"data row4 col1\" >2</td>\n",
       "      <td id=\"T_c619d_row4_col2\" class=\"data row4 col2\" >Chubut</td>\n",
       "      <td id=\"T_c619d_row4_col3\" class=\"data row4 col3\" >25,955.000000</td>\n",
       "      <td id=\"T_c619d_row4_col4\" class=\"data row4 col4\" >80,704.000000</td>\n",
       "      <td id=\"T_c619d_row4_col5\" class=\"data row4 col5\" >26,516.000000</td>\n",
       "      <td id=\"T_c619d_row4_col6\" class=\"data row4 col6\" >31,118.000000</td>\n",
       "      <td id=\"T_c619d_row4_col7\" class=\"data row4 col7\" >9,930.000000</td>\n",
       "      <td id=\"T_c619d_row4_col8\" class=\"data row4 col8\" >174,223.000000</td>\n",
       "    </tr>\n",
       "  </tbody>\n",
       "</table>\n"
      ],
      "text/plain": [
       "<pandas.io.formats.style.Styler at 0x7a41febaee70>"
      ]
     },
     "execution_count": 19,
     "metadata": {},
     "output_type": "execute_result"
    }
   ],
   "source": [
    "# Load dataset from data_files/internet.xlsx - sheet: 'Ingresos '\n",
    "df = utils.get_xls_sheet_data('/data_files/internet.xlsx', 'Accesos Por Tecnología')\n",
    "df.head().style.format(thousands=',')"
   ]
  },
  {
   "cell_type": "markdown",
   "metadata": {},
   "source": [
    "## 2. Handling missing values"
   ]
  },
  {
   "cell_type": "markdown",
   "metadata": {},
   "source": [
    "### Look for missing values in all cells"
   ]
  },
  {
   "cell_type": "code",
   "execution_count": 20,
   "metadata": {},
   "outputs": [
    {
     "data": {
      "text/plain": [
       "Año             1\n",
       "Trimestre       1\n",
       "Provincia       2\n",
       "ADSL            2\n",
       "Cablemodem      2\n",
       "Fibra óptica    2\n",
       "Wireless        2\n",
       "Otros           2\n",
       "Total           2\n",
       "dtype: int64"
      ]
     },
     "execution_count": 20,
     "metadata": {},
     "output_type": "execute_result"
    }
   ],
   "source": [
    "#Find missing values\n",
    "df.isnull().sum()"
   ]
  },
  {
   "cell_type": "markdown",
   "metadata": {},
   "source": [
    "#### There are 16 missed values, next we will analyse them and decide how to handle them"
   ]
  },
  {
   "cell_type": "code",
   "execution_count": 21,
   "metadata": {},
   "outputs": [
    {
     "data": {
      "text/html": [
       "<div>\n",
       "<style scoped>\n",
       "    .dataframe tbody tr th:only-of-type {\n",
       "        vertical-align: middle;\n",
       "    }\n",
       "\n",
       "    .dataframe tbody tr th {\n",
       "        vertical-align: top;\n",
       "    }\n",
       "\n",
       "    .dataframe thead th {\n",
       "        text-align: right;\n",
       "    }\n",
       "</style>\n",
       "<table border=\"1\" class=\"dataframe\">\n",
       "  <thead>\n",
       "    <tr style=\"text-align: right;\">\n",
       "      <th></th>\n",
       "      <th>Año</th>\n",
       "      <th>Trimestre</th>\n",
       "      <th>Provincia</th>\n",
       "      <th>ADSL</th>\n",
       "      <th>Cablemodem</th>\n",
       "      <th>Fibra óptica</th>\n",
       "      <th>Wireless</th>\n",
       "      <th>Otros</th>\n",
       "      <th>Total</th>\n",
       "    </tr>\n",
       "  </thead>\n",
       "  <tbody>\n",
       "    <tr>\n",
       "      <th>1007</th>\n",
       "      <td>NaN</td>\n",
       "      <td>NaN</td>\n",
       "      <td>NaN</td>\n",
       "      <td>NaN</td>\n",
       "      <td>NaN</td>\n",
       "      <td>NaN</td>\n",
       "      <td>NaN</td>\n",
       "      <td>NaN</td>\n",
       "      <td>NaN</td>\n",
       "    </tr>\n",
       "    <tr>\n",
       "      <th>1008</th>\n",
       "      <td>*</td>\n",
       "      <td>Los datos provinciales no coinciden a nivel na...</td>\n",
       "      <td>NaN</td>\n",
       "      <td>NaN</td>\n",
       "      <td>NaN</td>\n",
       "      <td>NaN</td>\n",
       "      <td>NaN</td>\n",
       "      <td>NaN</td>\n",
       "      <td>NaN</td>\n",
       "    </tr>\n",
       "  </tbody>\n",
       "</table>\n",
       "</div>"
      ],
      "text/plain": [
       "      Año                                          Trimestre Provincia  ADSL  \\\n",
       "1007  NaN                                                NaN       NaN   NaN   \n",
       "1008    *  Los datos provinciales no coinciden a nivel na...       NaN   NaN   \n",
       "\n",
       "      Cablemodem  Fibra óptica  Wireless  Otros  Total  \n",
       "1007         NaN           NaN       NaN    NaN    NaN  \n",
       "1008         NaN           NaN       NaN    NaN    NaN  "
      ]
     },
     "execution_count": 21,
     "metadata": {},
     "output_type": "execute_result"
    }
   ],
   "source": [
    "df[df.isnull().any(axis=1)]"
   ]
  },
  {
   "cell_type": "markdown",
   "metadata": {},
   "source": [
    "#### All missed values are concentrated in 2 rows, the row index 1007 correspond to \"Buenos Aires\" T1 year 2024. And 1008 are empty in the original datasource so we can drop it."
   ]
  },
  {
   "cell_type": "code",
   "execution_count": 22,
   "metadata": {},
   "outputs": [],
   "source": [
    "#fill missing values with 0 for 1007 index\n",
    "\n",
    "df.loc[1007] = [2024, 1, 'Buenos Aires', 218723, 2760083, 1817035, 138331, 66344, 5000500]"
   ]
  },
  {
   "cell_type": "code",
   "execution_count": 23,
   "metadata": {},
   "outputs": [
    {
     "name": "stdout",
     "output_type": "stream",
     "text": [
      "<class 'pandas.core.frame.DataFrame'>\n",
      "Index: 1008 entries, 0 to 1007\n",
      "Data columns (total 9 columns):\n",
      " #   Column        Non-Null Count  Dtype  \n",
      "---  ------        --------------  -----  \n",
      " 0   Año           1008 non-null   object \n",
      " 1   Trimestre     1008 non-null   object \n",
      " 2   Provincia     1008 non-null   object \n",
      " 3   ADSL          1008 non-null   float64\n",
      " 4   Cablemodem    1008 non-null   float64\n",
      " 5   Fibra óptica  1008 non-null   float64\n",
      " 6   Wireless      1008 non-null   float64\n",
      " 7   Otros         1008 non-null   float64\n",
      " 8   Total         1008 non-null   float64\n",
      "dtypes: float64(6), object(3)\n",
      "memory usage: 78.8+ KB\n"
     ]
    }
   ],
   "source": [
    "#remove missing values\n",
    "df = df.dropna()\n",
    "df.info()"
   ]
  },
  {
   "cell_type": "markdown",
   "metadata": {},
   "source": [
    "## 3. Look for Duplicates"
   ]
  },
  {
   "cell_type": "markdown",
   "metadata": {},
   "source": [
    "### Find duplicates for complete rows"
   ]
  },
  {
   "cell_type": "code",
   "execution_count": 24,
   "metadata": {},
   "outputs": [
    {
     "data": {
      "text/plain": [
       "0"
      ]
     },
     "execution_count": 24,
     "metadata": {},
     "output_type": "execute_result"
    }
   ],
   "source": [
    "#Find duplicates by complete row\n",
    "df.duplicated().sum()"
   ]
  },
  {
   "cell_type": "markdown",
   "metadata": {},
   "source": [
    "#### There's no complete duplicated rows"
   ]
  },
  {
   "cell_type": "markdown",
   "metadata": {},
   "source": [
    "### Fin duplicated rows for year and quarter ('Trimestre') and state ('Provincia')"
   ]
  },
  {
   "cell_type": "code",
   "execution_count": 25,
   "metadata": {},
   "outputs": [
    {
     "data": {
      "text/plain": [
       "0"
      ]
     },
     "execution_count": 25,
     "metadata": {},
     "output_type": "execute_result"
    }
   ],
   "source": [
    "#Find duplicated rows by row, for year and quarter\n",
    "df.duplicated(subset=['Año', 'Trimestre', 'Provincia']).sum()"
   ]
  },
  {
   "cell_type": "markdown",
   "metadata": {},
   "source": [
    "#### There's no duplicated rows for year, quarter and state"
   ]
  },
  {
   "cell_type": "markdown",
   "metadata": {},
   "source": [
    "## 4. Data Types"
   ]
  },
  {
   "cell_type": "markdown",
   "metadata": {},
   "source": [
    "### We will review the data types for each column."
   ]
  },
  {
   "cell_type": "code",
   "execution_count": 26,
   "metadata": {},
   "outputs": [
    {
     "name": "stdout",
     "output_type": "stream",
     "text": [
      "<class 'pandas.core.frame.DataFrame'>\n",
      "Index: 1008 entries, 0 to 1007\n",
      "Data columns (total 9 columns):\n",
      " #   Column        Non-Null Count  Dtype  \n",
      "---  ------        --------------  -----  \n",
      " 0   Año           1008 non-null   object \n",
      " 1   Trimestre     1008 non-null   object \n",
      " 2   Provincia     1008 non-null   object \n",
      " 3   ADSL          1008 non-null   float64\n",
      " 4   Cablemodem    1008 non-null   float64\n",
      " 5   Fibra óptica  1008 non-null   float64\n",
      " 6   Wireless      1008 non-null   float64\n",
      " 7   Otros         1008 non-null   float64\n",
      " 8   Total         1008 non-null   float64\n",
      "dtypes: float64(6), object(3)\n",
      "memory usage: 78.8+ KB\n"
     ]
    }
   ],
   "source": [
    "df.info()"
   ]
  },
  {
   "cell_type": "markdown",
   "metadata": {},
   "source": [
    "#### The 'Año', 'Trimestre' and 'Provincia' columns have an object data type, and have strings values. We should change the data type to string."
   ]
  },
  {
   "cell_type": "code",
   "execution_count": 27,
   "metadata": {},
   "outputs": [
    {
     "data": {
      "text/plain": [
       "array([2024, 2023, 2022, 2021, 2020, 2019, '2019 *', 2018, 2017, 2016,\n",
       "       2015, 2014], dtype=object)"
      ]
     },
     "execution_count": 27,
     "metadata": {},
     "output_type": "execute_result"
    }
   ],
   "source": [
    "# Review unique data\n",
    "df['Año'].unique()"
   ]
  },
  {
   "cell_type": "markdown",
   "metadata": {},
   "source": [
    "#### For quarters 1 to 3 for year 2019 we have the value 2019*, this means the data in not realiable because the values where misinformed from the source. I think the best solution is to copy the 4th quarter values for the year 2019."
   ]
  },
  {
   "cell_type": "code",
   "execution_count": 28,
   "metadata": {},
   "outputs": [
    {
     "data": {
      "text/html": [
       "<div>\n",
       "<style scoped>\n",
       "    .dataframe tbody tr th:only-of-type {\n",
       "        vertical-align: middle;\n",
       "    }\n",
       "\n",
       "    .dataframe tbody tr th {\n",
       "        vertical-align: top;\n",
       "    }\n",
       "\n",
       "    .dataframe thead th {\n",
       "        text-align: right;\n",
       "    }\n",
       "</style>\n",
       "<table border=\"1\" class=\"dataframe\">\n",
       "  <thead>\n",
       "    <tr style=\"text-align: right;\">\n",
       "      <th></th>\n",
       "      <th></th>\n",
       "      <th>count</th>\n",
       "    </tr>\n",
       "    <tr>\n",
       "      <th>Año</th>\n",
       "      <th>Trimestre</th>\n",
       "      <th></th>\n",
       "    </tr>\n",
       "  </thead>\n",
       "  <tbody>\n",
       "    <tr>\n",
       "      <th rowspan=\"4\" valign=\"top\">2014</th>\n",
       "      <th>1</th>\n",
       "      <td>24</td>\n",
       "    </tr>\n",
       "    <tr>\n",
       "      <th>2</th>\n",
       "      <td>24</td>\n",
       "    </tr>\n",
       "    <tr>\n",
       "      <th>3</th>\n",
       "      <td>24</td>\n",
       "    </tr>\n",
       "    <tr>\n",
       "      <th>4</th>\n",
       "      <td>24</td>\n",
       "    </tr>\n",
       "    <tr>\n",
       "      <th rowspan=\"4\" valign=\"top\">2015</th>\n",
       "      <th>1</th>\n",
       "      <td>24</td>\n",
       "    </tr>\n",
       "    <tr>\n",
       "      <th>2</th>\n",
       "      <td>24</td>\n",
       "    </tr>\n",
       "    <tr>\n",
       "      <th>3</th>\n",
       "      <td>24</td>\n",
       "    </tr>\n",
       "    <tr>\n",
       "      <th>4</th>\n",
       "      <td>24</td>\n",
       "    </tr>\n",
       "    <tr>\n",
       "      <th rowspan=\"4\" valign=\"top\">2016</th>\n",
       "      <th>1</th>\n",
       "      <td>24</td>\n",
       "    </tr>\n",
       "    <tr>\n",
       "      <th>2</th>\n",
       "      <td>24</td>\n",
       "    </tr>\n",
       "    <tr>\n",
       "      <th>3</th>\n",
       "      <td>24</td>\n",
       "    </tr>\n",
       "    <tr>\n",
       "      <th>4</th>\n",
       "      <td>24</td>\n",
       "    </tr>\n",
       "    <tr>\n",
       "      <th rowspan=\"4\" valign=\"top\">2017</th>\n",
       "      <th>1</th>\n",
       "      <td>24</td>\n",
       "    </tr>\n",
       "    <tr>\n",
       "      <th>2</th>\n",
       "      <td>24</td>\n",
       "    </tr>\n",
       "    <tr>\n",
       "      <th>3</th>\n",
       "      <td>24</td>\n",
       "    </tr>\n",
       "    <tr>\n",
       "      <th>4</th>\n",
       "      <td>24</td>\n",
       "    </tr>\n",
       "    <tr>\n",
       "      <th rowspan=\"4\" valign=\"top\">2018</th>\n",
       "      <th>1</th>\n",
       "      <td>24</td>\n",
       "    </tr>\n",
       "    <tr>\n",
       "      <th>2</th>\n",
       "      <td>24</td>\n",
       "    </tr>\n",
       "    <tr>\n",
       "      <th>3</th>\n",
       "      <td>24</td>\n",
       "    </tr>\n",
       "    <tr>\n",
       "      <th>4</th>\n",
       "      <td>24</td>\n",
       "    </tr>\n",
       "    <tr>\n",
       "      <th rowspan=\"4\" valign=\"top\">2019</th>\n",
       "      <th>4</th>\n",
       "      <td>24</td>\n",
       "    </tr>\n",
       "    <tr>\n",
       "      <th>1</th>\n",
       "      <td>24</td>\n",
       "    </tr>\n",
       "    <tr>\n",
       "      <th>2</th>\n",
       "      <td>24</td>\n",
       "    </tr>\n",
       "    <tr>\n",
       "      <th>3</th>\n",
       "      <td>24</td>\n",
       "    </tr>\n",
       "    <tr>\n",
       "      <th rowspan=\"4\" valign=\"top\">2020</th>\n",
       "      <th>1</th>\n",
       "      <td>24</td>\n",
       "    </tr>\n",
       "    <tr>\n",
       "      <th>2</th>\n",
       "      <td>24</td>\n",
       "    </tr>\n",
       "    <tr>\n",
       "      <th>3</th>\n",
       "      <td>24</td>\n",
       "    </tr>\n",
       "    <tr>\n",
       "      <th>4</th>\n",
       "      <td>24</td>\n",
       "    </tr>\n",
       "    <tr>\n",
       "      <th rowspan=\"4\" valign=\"top\">2021</th>\n",
       "      <th>1</th>\n",
       "      <td>24</td>\n",
       "    </tr>\n",
       "    <tr>\n",
       "      <th>2</th>\n",
       "      <td>24</td>\n",
       "    </tr>\n",
       "    <tr>\n",
       "      <th>3</th>\n",
       "      <td>24</td>\n",
       "    </tr>\n",
       "    <tr>\n",
       "      <th>4</th>\n",
       "      <td>24</td>\n",
       "    </tr>\n",
       "    <tr>\n",
       "      <th rowspan=\"4\" valign=\"top\">2022</th>\n",
       "      <th>1</th>\n",
       "      <td>24</td>\n",
       "    </tr>\n",
       "    <tr>\n",
       "      <th>2</th>\n",
       "      <td>24</td>\n",
       "    </tr>\n",
       "    <tr>\n",
       "      <th>3</th>\n",
       "      <td>24</td>\n",
       "    </tr>\n",
       "    <tr>\n",
       "      <th>4</th>\n",
       "      <td>24</td>\n",
       "    </tr>\n",
       "    <tr>\n",
       "      <th rowspan=\"4\" valign=\"top\">2023</th>\n",
       "      <th>1</th>\n",
       "      <td>24</td>\n",
       "    </tr>\n",
       "    <tr>\n",
       "      <th>2</th>\n",
       "      <td>24</td>\n",
       "    </tr>\n",
       "    <tr>\n",
       "      <th>3</th>\n",
       "      <td>24</td>\n",
       "    </tr>\n",
       "    <tr>\n",
       "      <th>4</th>\n",
       "      <td>24</td>\n",
       "    </tr>\n",
       "    <tr>\n",
       "      <th rowspan=\"2\" valign=\"top\">2024</th>\n",
       "      <th>1</th>\n",
       "      <td>24</td>\n",
       "    </tr>\n",
       "    <tr>\n",
       "      <th>2</th>\n",
       "      <td>24</td>\n",
       "    </tr>\n",
       "  </tbody>\n",
       "</table>\n",
       "</div>"
      ],
      "text/plain": [
       "                count\n",
       "Año  Trimestre       \n",
       "2014 1             24\n",
       "     2             24\n",
       "     3             24\n",
       "     4             24\n",
       "2015 1             24\n",
       "     2             24\n",
       "     3             24\n",
       "     4             24\n",
       "2016 1             24\n",
       "     2             24\n",
       "     3             24\n",
       "     4             24\n",
       "2017 1             24\n",
       "     2             24\n",
       "     3             24\n",
       "     4             24\n",
       "2018 1             24\n",
       "     2             24\n",
       "     3             24\n",
       "     4             24\n",
       "2019 4             24\n",
       "     1             24\n",
       "     2             24\n",
       "     3             24\n",
       "2020 1             24\n",
       "     2             24\n",
       "     3             24\n",
       "     4             24\n",
       "2021 1             24\n",
       "     2             24\n",
       "     3             24\n",
       "     4             24\n",
       "2022 1             24\n",
       "     2             24\n",
       "     3             24\n",
       "     4             24\n",
       "2023 1             24\n",
       "     2             24\n",
       "     3             24\n",
       "     4             24\n",
       "2024 1             24\n",
       "     2             24"
      ]
     },
     "execution_count": 28,
     "metadata": {},
     "output_type": "execute_result"
    }
   ],
   "source": [
    "#select Año = '2019' and Trimestre = '1'\n",
    "ok_2019 = df[df['Año'] == 2019].copy()\n",
    "ok_2019['Trimestre'] = '3'\n",
    "df = pd.concat([df, ok_2019])\n",
    "\n",
    "ok_2019['Trimestre'] = '2'\n",
    "df = pd.concat([df, ok_2019])\n",
    "\n",
    "ok_2019['Trimestre'] = '1'\n",
    "df = pd.concat([df, ok_2019])\n",
    "\n",
    "# drop rows where 'Año' = '2019 *'\n",
    "df = df.drop(df[df['Año'] == '2019 *'].index)\n",
    "\n",
    "df.groupby(['Año','Trimestre'])['Provincia'].agg(['count'])\n"
   ]
  },
  {
   "cell_type": "code",
   "execution_count": 29,
   "metadata": {},
   "outputs": [
    {
     "name": "stdout",
     "output_type": "stream",
     "text": [
      "<class 'pandas.core.frame.DataFrame'>\n",
      "Index: 1008 entries, 0 to 454\n",
      "Data columns (total 9 columns):\n",
      " #   Column        Non-Null Count  Dtype  \n",
      "---  ------        --------------  -----  \n",
      " 0   Año           1008 non-null   object \n",
      " 1   Trimestre     1008 non-null   object \n",
      " 2   Provincia     1008 non-null   object \n",
      " 3   ADSL          1008 non-null   float64\n",
      " 4   Cablemodem    1008 non-null   float64\n",
      " 5   Fibra óptica  1008 non-null   float64\n",
      " 6   Wireless      1008 non-null   float64\n",
      " 7   Otros         1008 non-null   float64\n",
      " 8   Total         1008 non-null   float64\n",
      "dtypes: float64(6), object(3)\n",
      "memory usage: 78.8+ KB\n"
     ]
    }
   ],
   "source": [
    "df.info()"
   ]
  },
  {
   "cell_type": "markdown",
   "metadata": {},
   "source": [
    "#### We needs to change the data type to string for 'Provincia' and integer for 'Año' and 'Trimestre' columns."
   ]
  },
  {
   "cell_type": "code",
   "execution_count": 30,
   "metadata": {},
   "outputs": [
    {
     "name": "stdout",
     "output_type": "stream",
     "text": [
      "<class 'pandas.core.frame.DataFrame'>\n",
      "Index: 1008 entries, 0 to 454\n",
      "Data columns (total 9 columns):\n",
      " #   Column        Non-Null Count  Dtype  \n",
      "---  ------        --------------  -----  \n",
      " 0   Año           1008 non-null   int64  \n",
      " 1   Trimestre     1008 non-null   int64  \n",
      " 2   Provincia     1008 non-null   string \n",
      " 3   ADSL          1008 non-null   float64\n",
      " 4   Cablemodem    1008 non-null   float64\n",
      " 5   Fibra óptica  1008 non-null   float64\n",
      " 6   Wireless      1008 non-null   float64\n",
      " 7   Otros         1008 non-null   float64\n",
      " 8   Total         1008 non-null   float64\n",
      "dtypes: float64(6), int64(2), string(1)\n",
      "memory usage: 78.8 KB\n"
     ]
    }
   ],
   "source": [
    "df['Año'] = df['Año'].astype('int64')\n",
    "df['Trimestre'] = df['Trimestre'].astype('int64')\n",
    "df['Provincia'] = df['Provincia'].astype('string')\n",
    "df.info()"
   ]
  },
  {
   "cell_type": "markdown",
   "metadata": {},
   "source": [
    "## 5. Finding outliers"
   ]
  },
  {
   "cell_type": "code",
   "execution_count": 31,
   "metadata": {},
   "outputs": [
    {
     "data": {
      "text/html": [
       "<div>\n",
       "<style scoped>\n",
       "    .dataframe tbody tr th:only-of-type {\n",
       "        vertical-align: middle;\n",
       "    }\n",
       "\n",
       "    .dataframe tbody tr th {\n",
       "        vertical-align: top;\n",
       "    }\n",
       "\n",
       "    .dataframe thead th {\n",
       "        text-align: right;\n",
       "    }\n",
       "</style>\n",
       "<table border=\"1\" class=\"dataframe\">\n",
       "  <thead>\n",
       "    <tr style=\"text-align: right;\">\n",
       "      <th></th>\n",
       "      <th>Año</th>\n",
       "      <th>Trimestre</th>\n",
       "      <th>ADSL</th>\n",
       "      <th>Cablemodem</th>\n",
       "      <th>Fibra óptica</th>\n",
       "      <th>Wireless</th>\n",
       "      <th>Otros</th>\n",
       "      <th>Total</th>\n",
       "    </tr>\n",
       "  </thead>\n",
       "  <tbody>\n",
       "    <tr>\n",
       "      <th>count</th>\n",
       "      <td>1,008.00</td>\n",
       "      <td>1,008.00</td>\n",
       "      <td>1,008.00</td>\n",
       "      <td>1,008.00</td>\n",
       "      <td>1,008.00</td>\n",
       "      <td>1,008.00</td>\n",
       "      <td>1,008.00</td>\n",
       "      <td>1,008.00</td>\n",
       "    </tr>\n",
       "    <tr>\n",
       "      <th>mean</th>\n",
       "      <td>2,018.76</td>\n",
       "      <td>2.45</td>\n",
       "      <td>110,525.34</td>\n",
       "      <td>185,490.05</td>\n",
       "      <td>51,616.00</td>\n",
       "      <td>12,763.99</td>\n",
       "      <td>6,500.71</td>\n",
       "      <td>366,896.07</td>\n",
       "    </tr>\n",
       "    <tr>\n",
       "      <th>std</th>\n",
       "      <td>3.04</td>\n",
       "      <td>1.12</td>\n",
       "      <td>229,440.01</td>\n",
       "      <td>454,732.85</td>\n",
       "      <td>186,501.73</td>\n",
       "      <td>21,380.60</td>\n",
       "      <td>11,277.12</td>\n",
       "      <td>788,194.42</td>\n",
       "    </tr>\n",
       "    <tr>\n",
       "      <th>min</th>\n",
       "      <td>2,014.00</td>\n",
       "      <td>1.00</td>\n",
       "      <td>2,230.00</td>\n",
       "      <td>0.00</td>\n",
       "      <td>0.00</td>\n",
       "      <td>0.00</td>\n",
       "      <td>2.00</td>\n",
       "      <td>12,557.00</td>\n",
       "    </tr>\n",
       "    <tr>\n",
       "      <th>25%</th>\n",
       "      <td>2,016.00</td>\n",
       "      <td>1.00</td>\n",
       "      <td>19,521.25</td>\n",
       "      <td>11,015.00</td>\n",
       "      <td>355.00</td>\n",
       "      <td>814.00</td>\n",
       "      <td>341.50</td>\n",
       "      <td>62,418.25</td>\n",
       "    </tr>\n",
       "    <tr>\n",
       "      <th>50%</th>\n",
       "      <td>2,019.00</td>\n",
       "      <td>2.00</td>\n",
       "      <td>43,967.50</td>\n",
       "      <td>40,892.50</td>\n",
       "      <td>3,224.50</td>\n",
       "      <td>5,245.00</td>\n",
       "      <td>1,901.00</td>\n",
       "      <td>113,834.50</td>\n",
       "    </tr>\n",
       "    <tr>\n",
       "      <th>75%</th>\n",
       "      <td>2,021.00</td>\n",
       "      <td>3.00</td>\n",
       "      <td>88,040.50</td>\n",
       "      <td>77,159.25</td>\n",
       "      <td>31,092.75</td>\n",
       "      <td>14,531.00</td>\n",
       "      <td>7,622.00</td>\n",
       "      <td>196,158.50</td>\n",
       "    </tr>\n",
       "    <tr>\n",
       "      <th>max</th>\n",
       "      <td>2,024.00</td>\n",
       "      <td>4.00</td>\n",
       "      <td>1,586,343.00</td>\n",
       "      <td>2,797,700.00</td>\n",
       "      <td>1,849,476.00</td>\n",
       "      <td>138,638.00</td>\n",
       "      <td>73,415.00</td>\n",
       "      <td>5,011,620.00</td>\n",
       "    </tr>\n",
       "  </tbody>\n",
       "</table>\n",
       "</div>"
      ],
      "text/plain": [
       "           Año  Trimestre         ADSL   Cablemodem  Fibra óptica   Wireless  \\\n",
       "count 1,008.00   1,008.00     1,008.00     1,008.00      1,008.00   1,008.00   \n",
       "mean  2,018.76       2.45   110,525.34   185,490.05     51,616.00  12,763.99   \n",
       "std       3.04       1.12   229,440.01   454,732.85    186,501.73  21,380.60   \n",
       "min   2,014.00       1.00     2,230.00         0.00          0.00       0.00   \n",
       "25%   2,016.00       1.00    19,521.25    11,015.00        355.00     814.00   \n",
       "50%   2,019.00       2.00    43,967.50    40,892.50      3,224.50   5,245.00   \n",
       "75%   2,021.00       3.00    88,040.50    77,159.25     31,092.75  14,531.00   \n",
       "max   2,024.00       4.00 1,586,343.00 2,797,700.00  1,849,476.00 138,638.00   \n",
       "\n",
       "          Otros        Total  \n",
       "count  1,008.00     1,008.00  \n",
       "mean   6,500.71   366,896.07  \n",
       "std   11,277.12   788,194.42  \n",
       "min        2.00    12,557.00  \n",
       "25%      341.50    62,418.25  \n",
       "50%    1,901.00   113,834.50  \n",
       "75%    7,622.00   196,158.50  \n",
       "max   73,415.00 5,011,620.00  "
      ]
     },
     "execution_count": 31,
     "metadata": {},
     "output_type": "execute_result"
    }
   ],
   "source": [
    "#Finding outliers\n",
    "df.describe()"
   ]
  },
  {
   "cell_type": "markdown",
   "metadata": {},
   "source": [
    "#### In the statistics, we can see there's no outliers values for the column year (\"Año\"), because the maximum value is 2024 and the data is historical. For the quarter (\"Trimestre\") column the minimum an maximum values are correct, 1 and 4. We have 0 values in dome technologies, this maybe means that technolofy isn't available in that province in that year, i.e. \"Cable Modem\" in \"La Rioja\" province from 2014 to 2017. No outlies detected."
   ]
  },
  {
   "cell_type": "code",
   "execution_count": 32,
   "metadata": {},
   "outputs": [
    {
     "data": {
      "text/html": [
       "<div>\n",
       "<style scoped>\n",
       "    .dataframe tbody tr th:only-of-type {\n",
       "        vertical-align: middle;\n",
       "    }\n",
       "\n",
       "    .dataframe tbody tr th {\n",
       "        vertical-align: top;\n",
       "    }\n",
       "\n",
       "    .dataframe thead th {\n",
       "        text-align: right;\n",
       "    }\n",
       "</style>\n",
       "<table border=\"1\" class=\"dataframe\">\n",
       "  <thead>\n",
       "    <tr style=\"text-align: right;\">\n",
       "      <th></th>\n",
       "      <th></th>\n",
       "      <th>count</th>\n",
       "    </tr>\n",
       "    <tr>\n",
       "      <th>Año</th>\n",
       "      <th>Trimestre</th>\n",
       "      <th></th>\n",
       "    </tr>\n",
       "  </thead>\n",
       "  <tbody>\n",
       "    <tr>\n",
       "      <th rowspan=\"4\" valign=\"top\">2014</th>\n",
       "      <th>1</th>\n",
       "      <td>24</td>\n",
       "    </tr>\n",
       "    <tr>\n",
       "      <th>2</th>\n",
       "      <td>24</td>\n",
       "    </tr>\n",
       "    <tr>\n",
       "      <th>3</th>\n",
       "      <td>24</td>\n",
       "    </tr>\n",
       "    <tr>\n",
       "      <th>4</th>\n",
       "      <td>24</td>\n",
       "    </tr>\n",
       "    <tr>\n",
       "      <th rowspan=\"4\" valign=\"top\">2015</th>\n",
       "      <th>1</th>\n",
       "      <td>24</td>\n",
       "    </tr>\n",
       "    <tr>\n",
       "      <th>2</th>\n",
       "      <td>24</td>\n",
       "    </tr>\n",
       "    <tr>\n",
       "      <th>3</th>\n",
       "      <td>24</td>\n",
       "    </tr>\n",
       "    <tr>\n",
       "      <th>4</th>\n",
       "      <td>24</td>\n",
       "    </tr>\n",
       "    <tr>\n",
       "      <th rowspan=\"4\" valign=\"top\">2016</th>\n",
       "      <th>1</th>\n",
       "      <td>24</td>\n",
       "    </tr>\n",
       "    <tr>\n",
       "      <th>2</th>\n",
       "      <td>24</td>\n",
       "    </tr>\n",
       "    <tr>\n",
       "      <th>3</th>\n",
       "      <td>24</td>\n",
       "    </tr>\n",
       "    <tr>\n",
       "      <th>4</th>\n",
       "      <td>24</td>\n",
       "    </tr>\n",
       "    <tr>\n",
       "      <th rowspan=\"4\" valign=\"top\">2017</th>\n",
       "      <th>1</th>\n",
       "      <td>24</td>\n",
       "    </tr>\n",
       "    <tr>\n",
       "      <th>2</th>\n",
       "      <td>24</td>\n",
       "    </tr>\n",
       "    <tr>\n",
       "      <th>3</th>\n",
       "      <td>24</td>\n",
       "    </tr>\n",
       "    <tr>\n",
       "      <th>4</th>\n",
       "      <td>24</td>\n",
       "    </tr>\n",
       "    <tr>\n",
       "      <th rowspan=\"4\" valign=\"top\">2018</th>\n",
       "      <th>1</th>\n",
       "      <td>24</td>\n",
       "    </tr>\n",
       "    <tr>\n",
       "      <th>2</th>\n",
       "      <td>24</td>\n",
       "    </tr>\n",
       "    <tr>\n",
       "      <th>3</th>\n",
       "      <td>24</td>\n",
       "    </tr>\n",
       "    <tr>\n",
       "      <th>4</th>\n",
       "      <td>24</td>\n",
       "    </tr>\n",
       "    <tr>\n",
       "      <th rowspan=\"4\" valign=\"top\">2019</th>\n",
       "      <th>1</th>\n",
       "      <td>24</td>\n",
       "    </tr>\n",
       "    <tr>\n",
       "      <th>2</th>\n",
       "      <td>24</td>\n",
       "    </tr>\n",
       "    <tr>\n",
       "      <th>3</th>\n",
       "      <td>24</td>\n",
       "    </tr>\n",
       "    <tr>\n",
       "      <th>4</th>\n",
       "      <td>24</td>\n",
       "    </tr>\n",
       "    <tr>\n",
       "      <th rowspan=\"4\" valign=\"top\">2020</th>\n",
       "      <th>1</th>\n",
       "      <td>24</td>\n",
       "    </tr>\n",
       "    <tr>\n",
       "      <th>2</th>\n",
       "      <td>24</td>\n",
       "    </tr>\n",
       "    <tr>\n",
       "      <th>3</th>\n",
       "      <td>24</td>\n",
       "    </tr>\n",
       "    <tr>\n",
       "      <th>4</th>\n",
       "      <td>24</td>\n",
       "    </tr>\n",
       "    <tr>\n",
       "      <th rowspan=\"4\" valign=\"top\">2021</th>\n",
       "      <th>1</th>\n",
       "      <td>24</td>\n",
       "    </tr>\n",
       "    <tr>\n",
       "      <th>2</th>\n",
       "      <td>24</td>\n",
       "    </tr>\n",
       "    <tr>\n",
       "      <th>3</th>\n",
       "      <td>24</td>\n",
       "    </tr>\n",
       "    <tr>\n",
       "      <th>4</th>\n",
       "      <td>24</td>\n",
       "    </tr>\n",
       "    <tr>\n",
       "      <th rowspan=\"4\" valign=\"top\">2022</th>\n",
       "      <th>1</th>\n",
       "      <td>24</td>\n",
       "    </tr>\n",
       "    <tr>\n",
       "      <th>2</th>\n",
       "      <td>24</td>\n",
       "    </tr>\n",
       "    <tr>\n",
       "      <th>3</th>\n",
       "      <td>24</td>\n",
       "    </tr>\n",
       "    <tr>\n",
       "      <th>4</th>\n",
       "      <td>24</td>\n",
       "    </tr>\n",
       "    <tr>\n",
       "      <th rowspan=\"4\" valign=\"top\">2023</th>\n",
       "      <th>1</th>\n",
       "      <td>24</td>\n",
       "    </tr>\n",
       "    <tr>\n",
       "      <th>2</th>\n",
       "      <td>24</td>\n",
       "    </tr>\n",
       "    <tr>\n",
       "      <th>3</th>\n",
       "      <td>24</td>\n",
       "    </tr>\n",
       "    <tr>\n",
       "      <th>4</th>\n",
       "      <td>24</td>\n",
       "    </tr>\n",
       "    <tr>\n",
       "      <th rowspan=\"2\" valign=\"top\">2024</th>\n",
       "      <th>1</th>\n",
       "      <td>24</td>\n",
       "    </tr>\n",
       "    <tr>\n",
       "      <th>2</th>\n",
       "      <td>24</td>\n",
       "    </tr>\n",
       "  </tbody>\n",
       "</table>\n",
       "</div>"
      ],
      "text/plain": [
       "                count\n",
       "Año  Trimestre       \n",
       "2014 1             24\n",
       "     2             24\n",
       "     3             24\n",
       "     4             24\n",
       "2015 1             24\n",
       "     2             24\n",
       "     3             24\n",
       "     4             24\n",
       "2016 1             24\n",
       "     2             24\n",
       "     3             24\n",
       "     4             24\n",
       "2017 1             24\n",
       "     2             24\n",
       "     3             24\n",
       "     4             24\n",
       "2018 1             24\n",
       "     2             24\n",
       "     3             24\n",
       "     4             24\n",
       "2019 1             24\n",
       "     2             24\n",
       "     3             24\n",
       "     4             24\n",
       "2020 1             24\n",
       "     2             24\n",
       "     3             24\n",
       "     4             24\n",
       "2021 1             24\n",
       "     2             24\n",
       "     3             24\n",
       "     4             24\n",
       "2022 1             24\n",
       "     2             24\n",
       "     3             24\n",
       "     4             24\n",
       "2023 1             24\n",
       "     2             24\n",
       "     3             24\n",
       "     4             24\n",
       "2024 1             24\n",
       "     2             24"
      ]
     },
     "execution_count": 32,
     "metadata": {},
     "output_type": "execute_result"
    }
   ],
   "source": [
    "df.groupby(['Año','Trimestre'])['Provincia'].agg(['count'])"
   ]
  },
  {
   "cell_type": "markdown",
   "metadata": {},
   "source": [
    "#### All pairs year-quarter are present, there's no missing data for each of the 24 provinces."
   ]
  },
  {
   "cell_type": "markdown",
   "metadata": {},
   "source": [
    "## New columns"
   ]
  },
  {
   "cell_type": "markdown",
   "metadata": {},
   "source": [
    "### Create a new column with the year and quarter"
   ]
  },
  {
   "cell_type": "code",
   "execution_count": 33,
   "metadata": {},
   "outputs": [
    {
     "name": "stdout",
     "output_type": "stream",
     "text": [
      "<class 'pandas.core.frame.DataFrame'>\n",
      "Index: 1008 entries, 0 to 454\n",
      "Data columns (total 10 columns):\n",
      " #   Column        Non-Null Count  Dtype  \n",
      "---  ------        --------------  -----  \n",
      " 0   Año           1008 non-null   int64  \n",
      " 1   Trimestre     1008 non-null   int64  \n",
      " 2   Provincia     1008 non-null   string \n",
      " 3   ADSL          1008 non-null   float64\n",
      " 4   Cablemodem    1008 non-null   float64\n",
      " 5   Fibra óptica  1008 non-null   float64\n",
      " 6   Wireless      1008 non-null   float64\n",
      " 7   Otros         1008 non-null   float64\n",
      " 8   Total         1008 non-null   float64\n",
      " 9   Periodo       1008 non-null   string \n",
      "dtypes: float64(6), int64(2), string(2)\n",
      "memory usage: 86.6 KB\n"
     ]
    }
   ],
   "source": [
    "#Create a new column with the quarter and year\n",
    "df['Periodo'] = (df['Año'].astype(str) + 'T' + df['Trimestre'].astype(str)).astype('string')\n",
    "df.info()"
   ]
  },
  {
   "cell_type": "markdown",
   "metadata": {},
   "source": [
    "# Save dataset"
   ]
  },
  {
   "cell_type": "code",
   "execution_count": 34,
   "metadata": {},
   "outputs": [],
   "source": [
    "df=df.reset_index()\n",
    "df.to_parquet(ROOT_DIR + '/data_files/accesos_por_tecnologia_por_provincia_clean.parquet')"
   ]
  }
 ],
 "metadata": {
  "kernelspec": {
   "display_name": "telecom_dashboard",
   "language": "python",
   "name": "python3"
  },
  "language_info": {
   "codemirror_mode": {
    "name": "ipython",
    "version": 3
   },
   "file_extension": ".py",
   "mimetype": "text/x-python",
   "name": "python",
   "nbconvert_exporter": "python",
   "pygments_lexer": "ipython3",
   "version": "3.12.7"
  }
 },
 "nbformat": 4,
 "nbformat_minor": 2
}
